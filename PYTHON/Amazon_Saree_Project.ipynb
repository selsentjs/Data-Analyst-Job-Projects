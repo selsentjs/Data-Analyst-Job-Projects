{
 "cells": [
  {
   "cell_type": "code",
   "execution_count": 82,
   "id": "58dbe6df-4678-4e06-84df-aa1c1e28f29a",
   "metadata": {},
   "outputs": [],
   "source": [
    "# import libraries\n",
    "\n",
    "from IPython.display import Image, HTML, display\n",
    "from bs4 import BeautifulSoup\n",
    "import requests\n",
    "import smtplib\n",
    "import time\n",
    "import datetime\n"
   ]
  },
  {
   "cell_type": "code",
   "execution_count": 84,
   "id": "5df87745-cf86-40a5-a426-6f32a9b7f8a7",
   "metadata": {},
   "outputs": [
    {
     "name": "stdout",
     "output_type": "stream",
     "text": [
      "Product Name: Yashika Women's Combo Art Silk Printed Saree With Blouse Piece Pack Of 2(AIR PEACH-AIR LIGHT GREEN)\n",
      "Price: ₹489\n"
     ]
    },
    {
     "data": {
      "text/html": [
       "<img src=\"https://m.media-amazon.com/images/I/81y+aH358aL._SL1500_.jpg\" style=\"width:200px; height:200px;\">"
      ],
      "text/plain": [
       "<IPython.core.display.HTML object>"
      ]
     },
     "metadata": {},
     "output_type": "display_data"
    },
    {
     "name": "stdout",
     "output_type": "stream",
     "text": [
      "Customer Reviews: 3.4 out of 5 stars\n",
      "Product details\n",
      "Material composition\n",
      "Art Silk\n",
      "Weave type\n",
      "Plain\n",
      "Design name\n",
      "Printed\n",
      "Length\n",
      "6 yards\n",
      "Occasion type\n",
      "Festival, Party, Wedding, Casual\n",
      "Pattern\n",
      "Floral\n",
      "Country of Origin\n",
      "India\n",
      "About this item\n",
      "Saree Fabric : Art Silk || Blouse Fabric : Art Silk\n",
      "Saree Length: 5.25 Mtr, Saree Blouse Length: 0.70 Mtr(Attached Saree)\n",
      "This combo Saree(Sari) Have Floral Print, Printed Pattern Mysore Silk Fabric.\n",
      "Wash Care : Wash with Like Colors, Do not Bleach, Machine Wash as per tag\n",
      "Light and Comfortable to Wear Best Gift for Your Loved Ones. Looks Pretty Awesome For Casual, Durga Puja, Party & Festive, Wedding Occasion. Specially This Saree Use for Durga Puja and Wedding.\n",
      "Additional Information\n",
      "Manufacturer\n",
      "Shopdunia Sales Pvt. Ltd., Tarsh Enterprise\n",
      "Packer\n",
      "Shopdunia Sales Pvt. Ltd.,Sangini textile hub-B, Surat - Kadodara Rd, Kumbhariya, Surat, Gujarat 395011\n",
      "Importer\n",
      "Tarsh Enterprise\n",
      "Item Weight\n",
      "380 g\n",
      "Item Dimensions LxWxH\n",
      "28 x 20 x 4 Centimeters\n",
      "Net Quantity\n",
      "1.00 count\n",
      "Included Components\n",
      "with blouse piece\n",
      "Generic Name\n",
      "Yashika Women's Combo Art Silk Printed Saree With Blouse Piece Pack Of 2(AIR PEACH-AIR LIGHT GREEN)\n"
     ]
    }
   ],
   "source": [
    "# connect to website\n",
    "\n",
    "url= 'https://www.amazon.in/Yashika-AIR-PEACH-AIR-LIGHT-GREEN/dp/B0BV6LNYHN/ref=sr_1_106?sr=8-106'\n",
    "\n",
    "headers = {\"User-Agent\": \"Mozilla/5.0 (Windows NT 10.0; Win64; x64) AppleWebKit/537.36 (KHTML, like Gecko) Chrome/128.0.0.0 Safari/537.36\", \"Accept-Encoding\": \"gzip, deflate, br, zstd\", \"Accept\": \"text/html,application/xhtml+xml,application/xml;q=0.9,image/avif,image/webp,image/apng,*/*;q=0.8\", \"DNT\":\"1\",\"Connection\":\"close\", \"Upgrade-Insecure-Requests\":\"1\"}\n",
    "\n",
    "page = requests.get(url, headers = headers)\n",
    "\n",
    "soup1 = BeautifulSoup(page.content, \"html.parser\")\n",
    "soup2 = BeautifulSoup(soup1.prettify(), \"html.parser\")\n",
    "\n",
    "title = soup2.find(id='productTitle').get_text(strip=True)\n",
    "\n",
    "print(\"Product Name:\", title)\n",
    "\n",
    "# Find the symbol and price elements\n",
    "\n",
    "symbol = soup2.find(class_='a-price-symbol').get_text(strip=True)\n",
    "price = soup2.find(class_='a-price-whole').get_text(strip=True)\n",
    "\n",
    "\n",
    "# Print symbol and price on the same line\n",
    "print(\"Price:\", symbol +  price)\n",
    "\n",
    "\n",
    "# URL of the image\n",
    "\n",
    "image_url = 'https://m.media-amazon.com/images/I/81y+aH358aL._SL1500_.jpg'\n",
    "\n",
    "# Create an HTML string with style to set the image size\n",
    "html = f'<img src=\"{image_url}\" style=\"width:200px; height:200px;\">'\n",
    "\n",
    "# Display the image with the specified size\n",
    "display(HTML(html))\n",
    "\n",
    "\n",
    "# Review\n",
    "review = soup2.find(class_='a-icon a-icon-star a-star-3-5 cm-cr-review-stars-spacing-big').get_text(strip=True)\n",
    "print(\"Customer Reviews:\", review)\n",
    "\n",
    "# Find the element with the specified class\n",
    "material_element = soup2.find(class_='a-expander-content a-expander-partial-collapse-content')\n",
    "\n",
    "# Check if the element is found\n",
    "if material_element:\n",
    "    # Extract and clean the text\n",
    "    material_text = material_element.get_text(separator=\"\\n\", strip=True)\n",
    "    \n",
    "    # Split the text by lines and further process if needed\n",
    "    lines = material_text.split('\\n')\n",
    "    \n",
    "    # Display each line or detail separately\n",
    "    for line in lines:\n",
    "        if line.strip():  # Print non-empty lines\n",
    "            print(line.strip())\n",
    "else:\n",
    "    print(\"Element with the specified class not found.\")  \n"
   ]
  },
  {
   "cell_type": "code",
   "execution_count": null,
   "id": "69f259c3-4c55-4c8b-9c58-d4b3ee385ce9",
   "metadata": {},
   "outputs": [],
   "source": []
  },
  {
   "cell_type": "code",
   "execution_count": 29,
   "id": "5a4b62e9-a3e0-412a-9daf-e870ac820039",
   "metadata": {},
   "outputs": [
    {
     "name": "stdout",
     "output_type": "stream",
     "text": [
      "2024-08-26\n"
     ]
    }
   ],
   "source": [
    "# Create a Timestamp for your output to track when data was collected\n",
    "\n",
    "import datetime\n",
    "\n",
    "today = datetime.date.today()\n",
    "\n",
    "print(today)"
   ]
  },
  {
   "cell_type": "code",
   "execution_count": null,
   "id": "c2efb57e-058c-4f32-9347-f6e2bd4d1fde",
   "metadata": {},
   "outputs": [],
   "source": []
  },
  {
   "cell_type": "code",
   "execution_count": 86,
   "id": "3eae4210-8143-4146-85f5-2de2fbd6446f",
   "metadata": {},
   "outputs": [],
   "source": [
    "import csv\n",
    "\n",
    "# Header including the new column\n",
    "header = ['Title', 'Price', 'Date']\n",
    "\n",
    "# Data including the new material text\n",
    "data = [title, price, today]\n",
    "\n",
    "# automatically this file write in location - C:\\Users\\eqtyt\\Python Project\n",
    "with open ('AmazonSareeData.csv', 'w', newline = '', encoding = 'UTF8') as f:\n",
    "    Writer = csv.writer(f)\n",
    "    Writer.writerow(header)\n",
    "    Writer.writerow(data)\n",
    "\n",
    "    "
   ]
  },
  {
   "cell_type": "code",
   "execution_count": null,
   "id": "eb73c1e5-1453-4688-9d37-7ba6b1057172",
   "metadata": {},
   "outputs": [],
   "source": []
  },
  {
   "cell_type": "code",
   "execution_count": 88,
   "id": "cf32f99b-93a1-402e-90b8-83a67da769ac",
   "metadata": {},
   "outputs": [
    {
     "data": {
      "text/html": [
       "<div>\n",
       "<style scoped>\n",
       "    .dataframe tbody tr th:only-of-type {\n",
       "        vertical-align: middle;\n",
       "    }\n",
       "\n",
       "    .dataframe tbody tr th {\n",
       "        vertical-align: top;\n",
       "    }\n",
       "\n",
       "    .dataframe thead th {\n",
       "        text-align: right;\n",
       "    }\n",
       "</style>\n",
       "<table border=\"1\" class=\"dataframe\">\n",
       "  <thead>\n",
       "    <tr style=\"text-align: right;\">\n",
       "      <th></th>\n",
       "      <th>Title</th>\n",
       "      <th>Price</th>\n",
       "      <th>Date</th>\n",
       "    </tr>\n",
       "  </thead>\n",
       "  <tbody>\n",
       "    <tr>\n",
       "      <th>0</th>\n",
       "      <td>Yashika Women's Combo Art Silk Printed Saree W...</td>\n",
       "      <td>489</td>\n",
       "      <td>2024-08-26</td>\n",
       "    </tr>\n",
       "  </tbody>\n",
       "</table>\n",
       "</div>"
      ],
      "text/plain": [
       "                                               Title  Price        Date\n",
       "0  Yashika Women's Combo Art Silk Printed Saree W...    489  2024-08-26"
      ]
     },
     "execution_count": 88,
     "metadata": {},
     "output_type": "execute_result"
    }
   ],
   "source": [
    "import pandas as pd\n",
    "\n",
    "pf = pd.read_csv(r'C:\\Users\\eqtyt\\AmazonSareeData.csv')\n",
    "pf"
   ]
  },
  {
   "cell_type": "code",
   "execution_count": null,
   "id": "bbbed3c6-d083-460d-8860-edf3b84aae81",
   "metadata": {},
   "outputs": [],
   "source": []
  },
  {
   "cell_type": "code",
   "execution_count": null,
   "id": "2fed2398-3c00-4a9e-9ee2-897a2805fa02",
   "metadata": {},
   "outputs": [],
   "source": []
  },
  {
   "cell_type": "code",
   "execution_count": 94,
   "id": "9730c42b-a07a-4f2a-b382-ee7fecf58ce7",
   "metadata": {},
   "outputs": [
    {
     "name": "stdout",
     "output_type": "stream",
     "text": [
      "Yashika Women's Combo Art Silk Printed Saree With Blouse Piece Pack Of 2(AIR PEACH-AIR LIGHT GREEN)\n",
      "₹489\n"
     ]
    },
    {
     "data": {
      "text/html": [
       "<img src=\"https://m.media-amazon.com/images/I/81y+aH358aL._SL1500_.jpg\" style=\"width:200px; height:200px;\">"
      ],
      "text/plain": [
       "<IPython.core.display.HTML object>"
      ]
     },
     "metadata": {},
     "output_type": "display_data"
    },
    {
     "name": "stdout",
     "output_type": "stream",
     "text": [
      "Customer Reviews: 3.4 out of 5 stars\n",
      "Product details\n",
      "Material composition\n",
      "Art Silk\n",
      "Weave type\n",
      "Plain\n",
      "Design name\n",
      "Printed\n",
      "Length\n",
      "6 yards\n",
      "Occasion type\n",
      "Festival, Party, Wedding, Casual\n",
      "Pattern\n",
      "Floral\n",
      "Country of Origin\n",
      "India\n",
      "About this item\n",
      "Saree Fabric : Art Silk || Blouse Fabric : Art Silk\n",
      "Saree Length: 5.25 Mtr, Saree Blouse Length: 0.70 Mtr(Attached Saree)\n",
      "This combo Saree(Sari) Have Floral Print, Printed Pattern Mysore Silk Fabric.\n",
      "Wash Care : Wash with Like Colors, Do not Bleach, Machine Wash as per tag\n",
      "Light and Comfortable to Wear Best Gift for Your Loved Ones. Looks Pretty Awesome For Casual, Durga Puja, Party & Festive, Wedding Occasion. Specially This Saree Use for Durga Puja and Wedding.\n",
      "Additional Information\n",
      "Manufacturer\n",
      "Shopdunia Sales Pvt. Ltd., Tarsh Enterprise\n",
      "Packer\n",
      "Shopdunia Sales Pvt. Ltd.,Sangini textile hub-B, Surat - Kadodara Rd, Kumbhariya, Surat, Gujarat 395011\n",
      "Importer\n",
      "Tarsh Enterprise\n",
      "Item Weight\n",
      "380 g\n",
      "Item Dimensions LxWxH\n",
      "28 x 20 x 4 Centimeters\n",
      "Net Quantity\n",
      "1.00 count\n",
      "Included Components\n",
      "with blouse piece\n",
      "Generic Name\n",
      "Yashika Women's Combo Art Silk Printed Saree With Blouse Piece Pack Of 2(AIR PEACH-AIR LIGHT GREEN)\n"
     ]
    }
   ],
   "source": [
    "def check_price():\n",
    " \n",
    "\n",
    "    url= 'https://www.amazon.in/Yashika-AIR-PEACH-AIR-LIGHT-GREEN/dp/B0BV6LNYHN/ref=sr_1_106?sr=8-106'\n",
    "\n",
    "    headers = {\"User-Agent\": \"Mozilla/5.0 (Windows NT 10.0; Win64; x64) AppleWebKit/537.36 (KHTML, like Gecko) Chrome/128.0.0.0 Safari/537.36\", \"Accept-Encoding\": \"gzip, deflate, br, zstd\", \"Accept\": \"text/html,application/xhtml+xml,application/xml;q=0.9,image/avif,image/webp,image/apng,*/*;q=0.8\", \"DNT\":\"1\",\"Connection\":\"close\", \"Upgrade-Insecure-Requests\":\"1\"}\n",
    "\n",
    "    page = requests.get(url, headers = headers)\n",
    "\n",
    "    soup1 = BeautifulSoup(page.content, \"html.parser\")\n",
    "    soup2 = BeautifulSoup(soup1.prettify(), \"html.parser\")\n",
    "\n",
    "    title = soup2.find(id='productTitle').get_text(strip=True)\n",
    "\n",
    "\n",
    "    symbol = soup2.find(class_='a-price-symbol').get_text(strip=True)\n",
    "    price = soup2.find(class_='a-price-whole').get_text(strip=True)\n",
    "\n",
    "    print(title)\n",
    "\n",
    "    print(symbol +  price)\n",
    "\n",
    "    # URL of the image\n",
    "    image_url = 'https://m.media-amazon.com/images/I/81y+aH358aL._SL1500_.jpg'\n",
    "\n",
    "    # Create an HTML string with style to set the image size\n",
    "    html = f'<img src=\"{image_url}\" style=\"width:200px; height:200px;\">'\n",
    "\n",
    "    # Display the image with the specified size\n",
    "    display(HTML(html))\n",
    "\n",
    "    # Review\n",
    "    review = soup2.find(class_='a-icon a-icon-star a-star-3-5 cm-cr-review-stars-spacing-big').get_text(strip=True)\n",
    "    print(\"Customer Reviews:\", review)\n",
    "\n",
    "    # Product Details\n",
    "    # -------------------------------------------------------------------------------------------------------------------------\n",
    "    # Find the element with the specified class\n",
    "    material_element = soup2.find(class_='a-expander-content a-expander-partial-collapse-content')\n",
    "\n",
    "    # Check if the element is found\n",
    "    if material_element:\n",
    "    # Extract and clean the text\n",
    "        material_text = material_element.get_text(separator=\"\\n\", strip=True)\n",
    "    \n",
    "    # Split the text by lines and further process if needed\n",
    "        lines = material_text.split('\\n')\n",
    "    \n",
    "    # Display each line or detail separately\n",
    "        for line in lines:\n",
    "            if line.strip():  # Print non-empty lines\n",
    "                print(line.strip())\n",
    "    else:\n",
    "        print(\"Element with the specified class not found.\")\n",
    "\n",
    "import datetime\n",
    "today = datetime.date.today()\n",
    "import csv\n",
    "\n",
    "header = ['Title', 'Price', 'Date']\n",
    "\n",
    "data = [title, price, today]\n",
    "\n",
    "with open('AmazonData.csv', 'a+', newline='', encoding='UTF8') as f:\n",
    "    writer = csv.writer(f)\n",
    "    # Write header only if file is empty\n",
    "    if f.tell() == 0:\n",
    "        writer.writerow(header)\n",
    "        writer.writerow(data)\n",
    "              \n",
    "    \n",
    "\n",
    "check_price()"
   ]
  },
  {
   "cell_type": "code",
   "execution_count": null,
   "id": "f6c2f65a-988e-4213-88ed-79a2474ad245",
   "metadata": {},
   "outputs": [],
   "source": []
  },
  {
   "cell_type": "code",
   "execution_count": 62,
   "id": "337575c6-c143-479e-a276-2f1a4c5a6f9a",
   "metadata": {},
   "outputs": [
    {
     "name": "stdout",
     "output_type": "stream",
     "text": [
      "                                               Title  Price        Date\n",
      "0  Yashika Women's Combo Art Silk Printed Saree W...    489  2024-08-26\n"
     ]
    }
   ],
   "source": [
    "import pandas as pd\n",
    "\n",
    "df = pd.read_csv(r'C:\\Users\\eqtyt\\AmazonSareeData.csv')\n",
    "\n",
    "print(df)"
   ]
  },
  {
   "cell_type": "code",
   "execution_count": null,
   "id": "31fb0680-ef88-4b15-a623-59308526d6a0",
   "metadata": {},
   "outputs": [],
   "source": []
  },
  {
   "cell_type": "code",
   "execution_count": null,
   "id": "1cfe41c7-c376-47bf-8eec-734095e08611",
   "metadata": {},
   "outputs": [],
   "source": [
    "# send email\n",
    "\n",
    "def send_mail():\n",
    "    # Setup the server\n",
    "    try:\n",
    "        server = smtplib.SMTP_SSL('smtp.gmail.com', 465)\n",
    "        server.ehlo()\n",
    "        \n",
    "        # Login to the email server\n",
    "        server.login('email@gmail.com', 'secure_key')\n",
    "        \n",
    "       \n",
    "        subject = \"The Saree you want is below 500, Now is your chance to buy!\"\n",
    "        body = \"This is my Amazon project\"\n",
    "        msg = f\"Subject: {subject}\\n\\n{body}\"\n",
    "        \n",
    "        # Send the email\n",
    "        server.sendmail(\n",
    "            'fromemail@gmail.com',  \n",
    "            'toemail@gmail.com@gmail.com', \n",
    "            msg\n",
    "        )\n",
    "        \n",
    "        print(\"Email sent successfully\")\n",
    "    \n",
    "    except Exception as e:\n",
    "        print(f\"Failed to send email. Error: {e}\")\n",
    "    \n",
    "    finally:\n",
    "        # Close the server connection\n",
    "        server.quit()\n",
    "\n",
    "# Call the function \n",
    "send_mail()"
   ]
  },
  {
   "cell_type": "code",
   "execution_count": null,
   "id": "a050b128-efb9-4904-b491-fb857d7d0992",
   "metadata": {},
   "outputs": [],
   "source": []
  }
 ],
 "metadata": {
  "kernelspec": {
   "display_name": "Python 3 (ipykernel)",
   "language": "python",
   "name": "python3"
  },
  "language_info": {
   "codemirror_mode": {
    "name": "ipython",
    "version": 3
   },
   "file_extension": ".py",
   "mimetype": "text/x-python",
   "name": "python",
   "nbconvert_exporter": "python",
   "pygments_lexer": "ipython3",
   "version": "3.12.4"
  }
 },
 "nbformat": 4,
 "nbformat_minor": 5
}
